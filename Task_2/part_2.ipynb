{
 "cells": [
  {
   "cell_type": "code",
   "execution_count": 372,
   "id": "initial_id",
   "metadata": {
    "collapsed": true,
    "ExecuteTime": {
     "end_time": "2024-03-05T16:00:13.063244500Z",
     "start_time": "2024-03-05T16:00:13.010390700Z"
    }
   },
   "outputs": [],
   "source": [
    "import pandas as pd\n",
    "import numpy as np\n",
    "import matplotlib.pyplot as plt\n",
    "import plotly.express as px\n",
    "from ydata_profiling import ProfileReport\n",
    "import math\n",
    "%matplotlib inline"
   ]
  },
  {
   "cell_type": "markdown",
   "source": [
    "4 Questions:\n",
    "\n",
    "1 - How much money did you spend on marketing?\n",
    "2 - How much money did you earn at the moment (on the 7th day)?\n",
    "3 - How much money do we plan to earn in 1 year (2 billing of the annual subscription)?\n",
    "4 - ROMI 7d and 1y (7-day and 1-year yields)?"
   ],
   "metadata": {
    "collapsed": false
   },
   "id": "20d99b8a4917f3d2"
  },
  {
   "cell_type": "markdown",
   "source": [
    "Data:"
   ],
   "metadata": {
    "collapsed": false
   },
   "id": "a1aaf539cbcc425f"
  },
  {
   "cell_type": "code",
   "outputs": [],
   "source": [
    "annual_subscription_price = 89.99\n",
    "monthly_subscription_price = 12.99\n",
    "CR_from_trial_to_paid = 0.4\n",
    "# Refund rate:\n",
    "annual_refund_rate = 0.15\n",
    "monthly_refund_rate = 0.03\n",
    "\n",
    "total_number_of_subscriptions = 5000\n",
    "\n",
    "share_of_annual_plan = 0.8\n",
    "\n",
    "# Subscription retention:\n",
    "annual_retention = 0.2\n",
    "monthly_retention = 0.8\n",
    "\n",
    "CPM = 15\n",
    "CTR = 0.015\n",
    "CR_click_to_install = 0.3\n",
    "CR_install_to_purchase = 0.15"
   ],
   "metadata": {
    "collapsed": false,
    "ExecuteTime": {
     "end_time": "2024-03-05T16:00:13.092709100Z",
     "start_time": "2024-03-05T16:00:13.067683Z"
    }
   },
   "id": "10a879dcc7cb9660",
   "execution_count": 373
  },
  {
   "cell_type": "markdown",
   "source": [
    "1 - How much money did you spend on marketing?"
   ],
   "metadata": {
    "collapsed": false
   },
   "id": "68613b3521c9a274"
  },
  {
   "cell_type": "markdown",
   "source": [
    "Obviously our marketing cost depends on Facebook ads, so let's begin to explore these costs.\n",
    "\n",
    "Total number of installs:"
   ],
   "metadata": {
    "collapsed": false
   },
   "id": "5edcda2d9af2f641"
  },
  {
   "cell_type": "code",
   "outputs": [
    {
     "data": {
      "text/plain": "33333"
     },
     "execution_count": 374,
     "metadata": {},
     "output_type": "execute_result"
    }
   ],
   "source": [
    "total_number_of_installs = total_number_of_subscriptions / CR_install_to_purchase\n",
    "total_number_of_installs = math.floor(total_number_of_installs)\n",
    "total_number_of_installs"
   ],
   "metadata": {
    "collapsed": false,
    "ExecuteTime": {
     "end_time": "2024-03-05T16:00:13.154636600Z",
     "start_time": "2024-03-05T16:00:13.085200100Z"
    }
   },
   "id": "5eb7f141114f5a72",
   "execution_count": 374
  },
  {
   "cell_type": "markdown",
   "source": [
    "Total clicks"
   ],
   "metadata": {
    "collapsed": false
   },
   "id": "782c6560069e0842"
  },
  {
   "cell_type": "code",
   "outputs": [
    {
     "data": {
      "text/plain": "111110"
     },
     "execution_count": 375,
     "metadata": {},
     "output_type": "execute_result"
    }
   ],
   "source": [
    "total_number_of_clicks = total_number_of_installs / CR_click_to_install\n",
    "total_number_of_clicks = math.floor(total_number_of_clicks)\n",
    "total_number_of_clicks"
   ],
   "metadata": {
    "collapsed": false,
    "ExecuteTime": {
     "end_time": "2024-03-05T16:00:13.155636800Z",
     "start_time": "2024-03-05T16:00:13.101512500Z"
    }
   },
   "id": "8e4f3bb0a2a5021c",
   "execution_count": 375
  },
  {
   "cell_type": "markdown",
   "source": [
    "Total shows(impressions)"
   ],
   "metadata": {
    "collapsed": false
   },
   "id": "e55ff613ac626928"
  },
  {
   "cell_type": "code",
   "outputs": [
    {
     "data": {
      "text/plain": "7407333"
     },
     "execution_count": 376,
     "metadata": {},
     "output_type": "execute_result"
    }
   ],
   "source": [
    "total_number_of_shows = total_number_of_clicks / CTR\n",
    "total_number_of_shows = math.floor(total_number_of_shows)\n",
    "total_number_of_shows"
   ],
   "metadata": {
    "collapsed": false,
    "ExecuteTime": {
     "end_time": "2024-03-05T16:00:13.211848600Z",
     "start_time": "2024-03-05T16:00:13.118675200Z"
    }
   },
   "id": "60d45f17a6f962e",
   "execution_count": 376
  },
  {
   "cell_type": "markdown",
   "source": [
    "So, finally total price for the marketing:"
   ],
   "metadata": {
    "collapsed": false
   },
   "id": "1c5273cdec3046a9"
  },
  {
   "cell_type": "code",
   "outputs": [
    {
     "name": "stdout",
     "output_type": "stream",
     "text": [
      "Total price for marketing:  111109.995 $\n"
     ]
    }
   ],
   "source": [
    "total_price_for_marketing = total_number_of_shows * CPM / 1000.0\n",
    "print('Total price for marketing: ',total_price_for_marketing, '$')"
   ],
   "metadata": {
    "collapsed": false,
    "ExecuteTime": {
     "end_time": "2024-03-05T16:00:13.213251100Z",
     "start_time": "2024-03-05T16:00:13.133485700Z"
    }
   },
   "id": "677f0091e6428a2b",
   "execution_count": 377
  },
  {
   "cell_type": "markdown",
   "source": [
    "2 - How much money did you earn at the moment (on the 7th day)?\n",
    "\n",
    "In that case we would not take into account the annual subscription because on the seventh day still has free trial\n",
    "Taking in mind that - Share of annual plan with 7 days free: 80%\n",
    "We can do the next steps:"
   ],
   "metadata": {
    "collapsed": false
   },
   "id": "e91909fd33cfd8d0"
  },
  {
   "cell_type": "code",
   "outputs": [
    {
     "data": {
      "text/plain": "0.2"
     },
     "execution_count": 378,
     "metadata": {},
     "output_type": "execute_result"
    }
   ],
   "source": [
    "share_of_month_plan = 1 - share_of_annual_plan\n",
    "share_of_month_plan = round(share_of_month_plan, 1)\n",
    "share_of_month_plan"
   ],
   "metadata": {
    "collapsed": false,
    "ExecuteTime": {
     "end_time": "2024-03-05T16:00:13.215251200Z",
     "start_time": "2024-03-05T16:00:13.148798200Z"
    }
   },
   "id": "8ced9f4f9160e039",
   "execution_count": 378
  },
  {
   "cell_type": "markdown",
   "source": [
    "I assumed that total_number_of_subscriptions_for_seven_days it is the number of subscriptions for the first 7 days.\n",
    "\n",
    "Let's evaluate our revenue for the first seven days then"
   ],
   "metadata": {
    "collapsed": false
   },
   "id": "19e1015f3d551d4c"
  },
  {
   "cell_type": "code",
   "outputs": [
    {
     "name": "stdout",
     "output_type": "stream",
     "text": [
      "Total revenue for the first 7 days:  519.6 $\n"
     ]
    }
   ],
   "source": [
    "total_number_of_subscriptions_for_seven_days = 200\n",
    "total_revenue_on_seventh_day = total_number_of_subscriptions_for_seven_days * share_of_month_plan * monthly_subscription_price\n",
    "print('Total revenue for the first 7 days: ',total_revenue_on_seventh_day, '$')"
   ],
   "metadata": {
    "collapsed": false,
    "ExecuteTime": {
     "end_time": "2024-03-05T16:00:13.232389100Z",
     "start_time": "2024-03-05T16:00:13.163617900Z"
    }
   },
   "id": "f76154d4966d9c58",
   "execution_count": 379
  },
  {
   "cell_type": "markdown",
   "source": [
    "3 - How much money do we plan to earn in 1 year (2 billing of the annual subscription)?\n",
    "\n",
    "I assumed that total_number_of_subscriptions it is the number of subscriptions for the 2 years.\n",
    "Also, all annual and month subscriptions were made in the first day of the year(for evaluating annual and monthtly subscription rebill second time in the beginning of the second year)"
   ],
   "metadata": {
    "collapsed": false
   },
   "id": "8b4adad2b646ab40"
  },
  {
   "cell_type": "markdown",
   "source": [
    "Annual retention rate analysis:\n",
    "We would discover number of annual subscriptions in each year\n",
    "I took into account Conversion rate from trial to paid in the first year\n",
    "I assumed that the number of subscriptions in the first year is 3333"
   ],
   "metadata": {
    "collapsed": false
   },
   "id": "5f2c588b5370f3f6"
  },
  {
   "cell_type": "code",
   "outputs": [
    {
     "name": "stdout",
     "output_type": "stream",
     "text": [
      "[1333, 266]\n",
      "1599\n"
     ]
    }
   ],
   "source": [
    "number_of_years = 2\n",
    "first_percentage_annual = sum([pow(annual_retention, x) for x in range(number_of_years)])\n",
    "list_of_annual_percentages = [first_percentage_annual]\n",
    "\n",
    "for x in range(number_of_years - 1):\n",
    "    list_of_annual_percentages.append(annual_retention)\n",
    "total_number_of_annual_subscriptions = total_number_of_subscriptions * share_of_annual_plan\n",
    "\n",
    "list_total_number_of_annual_subscriptions = []\n",
    "temp_annual = total_number_of_annual_subscriptions\n",
    "append_item_annual = math.floor(temp_annual / first_percentage_annual * CR_from_trial_to_paid)\n",
    "list_total_number_of_annual_subscriptions.append(append_item_annual)\n",
    "temp_annual = append_item_annual\n",
    "for percentage in list_of_annual_percentages[1:]:\n",
    "    append_item_annual = math.floor(temp_annual * percentage)\n",
    "    list_total_number_of_annual_subscriptions.append(append_item_annual)\n",
    "    temp_annual = append_item_annual\n",
    "    \n",
    "\n",
    "print(list_total_number_of_annual_subscriptions)\n",
    "print(sum(list_total_number_of_annual_subscriptions))\n",
    "# Basically 40% of 4000 annual payments = 1600"
   ],
   "metadata": {
    "collapsed": false,
    "ExecuteTime": {
     "end_time": "2024-03-05T16:00:13.314163100Z",
     "start_time": "2024-03-05T16:00:13.179428100Z"
    }
   },
   "id": "5bd757691bc4c336",
   "execution_count": 380
  },
  {
   "cell_type": "markdown",
   "source": [
    "Month retention rate analysis:\n",
    "We would discover number of month subscriptions in each month"
   ],
   "metadata": {
    "collapsed": false
   },
   "id": "f862e7d00ed2218"
  },
  {
   "cell_type": "code",
   "outputs": [
    {
     "name": "stdout",
     "output_type": "stream",
     "text": [
      "[201, 160, 128, 102, 81, 64, 51, 40, 32, 25, 20, 16, 12, 9, 7, 5, 4, 3, 2, 1, 0, 0, 0]\n",
      "963\n"
     ]
    }
   ],
   "source": [
    "number_of_months = 23\n",
    "first_percentage_month = sum([pow(monthly_retention, x) for x in range(number_of_months)])\n",
    "list_of_month_percentages = [first_percentage_month]\n",
    "for x in range(number_of_months - 1):\n",
    "    list_of_month_percentages.append(monthly_retention)\n",
    "total_number_of_month_subscriptions = total_number_of_subscriptions * share_of_month_plan\n",
    "\n",
    "list_total_number_of_month_subscriptions = []\n",
    "temp_month = total_number_of_month_subscriptions\n",
    "append_item_month = math.floor(temp_month / list_of_month_percentages[0])\n",
    "list_total_number_of_month_subscriptions.append(append_item_month)\n",
    "temp_month = append_item_month\n",
    "for percentage in list_of_month_percentages[1:]:\n",
    "    append_item_month = math.floor(temp_month * percentage)\n",
    "    list_total_number_of_month_subscriptions.append(append_item_month)\n",
    "    temp_month = append_item_month\n",
    "    \n",
    "print(list_total_number_of_month_subscriptions)\n",
    "print(sum(list_total_number_of_month_subscriptions))"
   ],
   "metadata": {
    "collapsed": false,
    "ExecuteTime": {
     "end_time": "2024-03-05T16:00:13.315164Z",
     "start_time": "2024-03-05T16:00:13.196547100Z"
    }
   },
   "id": "86d3547c1acfe791",
   "execution_count": 381
  },
  {
   "cell_type": "markdown",
   "source": [
    "Finally, the total revenue for the first day of the second year would be:"
   ],
   "metadata": {
    "collapsed": false
   },
   "id": "7a6eb1a46fa09f68"
  },
  {
   "cell_type": "code",
   "outputs": [
    {
     "name": "stdout",
     "output_type": "stream",
     "text": [
      "Total revenue: 134053.3881 $\n"
     ]
    }
   ],
   "source": [
    "total_revenue_of_annual_subscriptions_for_second_year = sum([number_of_subs * annual_subscription_price for number_of_subs in list_total_number_of_annual_subscriptions]) * (1 - annual_refund_rate)\n",
    "\n",
    "total_revenue_of_month_subscriptions_for_second_year = sum([number_of_subs * monthly_subscription_price for number_of_subs in list_total_number_of_month_subscriptions[:13]]) * (1 - monthly_refund_rate)\n",
    "\n",
    "total_revenue_for_second_year = total_revenue_of_annual_subscriptions_for_second_year + total_revenue_of_month_subscriptions_for_second_year\n",
    "print('Total revenue:', total_revenue_for_second_year, '$')"
   ],
   "metadata": {
    "collapsed": false,
    "ExecuteTime": {
     "end_time": "2024-03-05T16:00:13.337830200Z",
     "start_time": "2024-03-05T16:00:13.218845300Z"
    }
   },
   "id": "75567f199cd99f0c",
   "execution_count": 382
  },
  {
   "cell_type": "markdown",
   "source": [
    "4 - ROMI 7d and 1y (7-day and 1-year yields)?\n",
    "\n",
    "First of all, we don't have marketing cost of the first 7 days, so I will assume that total number of subscriptions will be the same as I assumed previously evaluating 7d revenue 'total_number_of_subscriptions_for_seven_days = 200'"
   ],
   "metadata": {
    "collapsed": false
   },
   "id": "65a3b4deccdcdc3e"
  },
  {
   "cell_type": "code",
   "outputs": [
    {
     "name": "stdout",
     "output_type": "stream",
     "text": [
      "Total price for marketing:  4443.0 $\n"
     ]
    }
   ],
   "source": [
    "total_number_of_installs_for_seven_days = total_number_of_subscriptions_for_seven_days / CR_install_to_purchase\n",
    "total_number_of_installs_for_seven_days = math.floor(total_number_of_installs_for_seven_days)\n",
    "\n",
    "total_number_of_clicks_for_seven_days = total_number_of_installs_for_seven_days / CR_click_to_install\n",
    "total_number_of_clicks_for_seven_days = math.floor(total_number_of_clicks_for_seven_days)\n",
    "\n",
    "total_number_of_shows_for_seven_days = total_number_of_clicks_for_seven_days / CTR\n",
    "total_number_of_shows_for_seven_days = math.floor(total_number_of_shows_for_seven_days)\n",
    "\n",
    "total_price_for_marketing_for_seven_days = total_number_of_shows_for_seven_days * CPM / 1000.0\n",
    "print('Total price for marketing: ',total_price_for_marketing_for_seven_days, '$')"
   ],
   "metadata": {
    "collapsed": false,
    "ExecuteTime": {
     "end_time": "2024-03-05T16:00:13.355708Z",
     "start_time": "2024-03-05T16:00:13.324474200Z"
    }
   },
   "id": "edb1780c1a29ed72",
   "execution_count": 383
  },
  {
   "cell_type": "markdown",
   "source": [
    "Romi 7d:"
   ],
   "metadata": {
    "collapsed": false
   },
   "id": "ae80130e818d8d0f"
  },
  {
   "cell_type": "code",
   "outputs": [
    {
     "name": "stdout",
     "output_type": "stream",
     "text": [
      "ROMI 7 days: -88.30519918973667 %\n"
     ]
    }
   ],
   "source": [
    "Romi_7d = (total_revenue_on_seventh_day - total_price_for_marketing_for_seven_days) / total_price_for_marketing_for_seven_days * 100\n",
    "print('ROMI 7 days:', Romi_7d, '%')"
   ],
   "metadata": {
    "collapsed": false,
    "ExecuteTime": {
     "end_time": "2024-03-05T16:00:13.422348400Z",
     "start_time": "2024-03-05T16:00:13.359216700Z"
    }
   },
   "id": "def5631f3c44c996",
   "execution_count": 384
  },
  {
   "cell_type": "markdown",
   "source": [
    "Romi 1y:"
   ],
   "metadata": {
    "collapsed": false
   },
   "id": "7db98ab0e02a2e91"
  },
  {
   "cell_type": "code",
   "outputs": [
    {
     "name": "stdout",
     "output_type": "stream",
     "text": [
      "ROMI 1 year: 20.649261211828886 %\n"
     ]
    }
   ],
   "source": [
    "Romi_1y = (total_revenue_for_second_year - total_price_for_marketing) / total_price_for_marketing * 100\n",
    "print('ROMI 1 year:', Romi_1y, '%')"
   ],
   "metadata": {
    "collapsed": false,
    "ExecuteTime": {
     "end_time": "2024-03-05T16:00:13.455121500Z",
     "start_time": "2024-03-05T16:00:13.424492800Z"
    }
   },
   "id": "de747d0c1b2ab1fd",
   "execution_count": 385
  }
 ],
 "metadata": {
  "kernelspec": {
   "display_name": "Python 3",
   "language": "python",
   "name": "python3"
  },
  "language_info": {
   "codemirror_mode": {
    "name": "ipython",
    "version": 2
   },
   "file_extension": ".py",
   "mimetype": "text/x-python",
   "name": "python",
   "nbconvert_exporter": "python",
   "pygments_lexer": "ipython2",
   "version": "2.7.6"
  }
 },
 "nbformat": 4,
 "nbformat_minor": 5
}
